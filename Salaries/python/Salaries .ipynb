{
 "cells": [
  {
   "cell_type": "code",
   "execution_count": 1,
   "id": "a2e9043e",
   "metadata": {},
   "outputs": [],
   "source": [
    "import numpy as np\n",
    "import pandas as pd\n",
    "import matplotlib.pyplot as plt\n",
    "import seaborn as sns"
   ]
  },
  {
   "cell_type": "code",
   "execution_count": 2,
   "id": "448f6c77",
   "metadata": {},
   "outputs": [
    {
     "data": {
      "text/html": [
       "<div>\n",
       "<style scoped>\n",
       "    .dataframe tbody tr th:only-of-type {\n",
       "        vertical-align: middle;\n",
       "    }\n",
       "\n",
       "    .dataframe tbody tr th {\n",
       "        vertical-align: top;\n",
       "    }\n",
       "\n",
       "    .dataframe thead th {\n",
       "        text-align: right;\n",
       "    }\n",
       "</style>\n",
       "<table border=\"1\" class=\"dataframe\">\n",
       "  <thead>\n",
       "    <tr style=\"text-align: right;\">\n",
       "      <th></th>\n",
       "      <th>work_year</th>\n",
       "      <th>experience_level</th>\n",
       "      <th>employment_type</th>\n",
       "      <th>job_title</th>\n",
       "      <th>salary</th>\n",
       "      <th>salary_currency</th>\n",
       "      <th>salary_in_usd</th>\n",
       "      <th>employee_residence</th>\n",
       "      <th>remote_ratio</th>\n",
       "      <th>company_location</th>\n",
       "      <th>company_size</th>\n",
       "    </tr>\n",
       "  </thead>\n",
       "  <tbody>\n",
       "    <tr>\n",
       "      <th>0</th>\n",
       "      <td>2024</td>\n",
       "      <td>MI</td>\n",
       "      <td>FT</td>\n",
       "      <td>Analytics Engineer</td>\n",
       "      <td>77500</td>\n",
       "      <td>CAD</td>\n",
       "      <td>59615</td>\n",
       "      <td>CA</td>\n",
       "      <td>100</td>\n",
       "      <td>CA</td>\n",
       "      <td>S</td>\n",
       "    </tr>\n",
       "    <tr>\n",
       "      <th>1</th>\n",
       "      <td>2024</td>\n",
       "      <td>SE</td>\n",
       "      <td>FT</td>\n",
       "      <td>AI Developer</td>\n",
       "      <td>252000</td>\n",
       "      <td>USD</td>\n",
       "      <td>252000</td>\n",
       "      <td>US</td>\n",
       "      <td>0</td>\n",
       "      <td>US</td>\n",
       "      <td>M</td>\n",
       "    </tr>\n",
       "    <tr>\n",
       "      <th>2</th>\n",
       "      <td>2024</td>\n",
       "      <td>SE</td>\n",
       "      <td>FT</td>\n",
       "      <td>AI Developer</td>\n",
       "      <td>168000</td>\n",
       "      <td>USD</td>\n",
       "      <td>168000</td>\n",
       "      <td>US</td>\n",
       "      <td>0</td>\n",
       "      <td>US</td>\n",
       "      <td>M</td>\n",
       "    </tr>\n",
       "    <tr>\n",
       "      <th>3</th>\n",
       "      <td>2024</td>\n",
       "      <td>MI</td>\n",
       "      <td>FT</td>\n",
       "      <td>Data Scientist</td>\n",
       "      <td>199500</td>\n",
       "      <td>USD</td>\n",
       "      <td>199500</td>\n",
       "      <td>US</td>\n",
       "      <td>100</td>\n",
       "      <td>US</td>\n",
       "      <td>M</td>\n",
       "    </tr>\n",
       "    <tr>\n",
       "      <th>4</th>\n",
       "      <td>2024</td>\n",
       "      <td>MI</td>\n",
       "      <td>FT</td>\n",
       "      <td>Data Scientist</td>\n",
       "      <td>86700</td>\n",
       "      <td>USD</td>\n",
       "      <td>86700</td>\n",
       "      <td>US</td>\n",
       "      <td>100</td>\n",
       "      <td>US</td>\n",
       "      <td>M</td>\n",
       "    </tr>\n",
       "  </tbody>\n",
       "</table>\n",
       "</div>"
      ],
      "text/plain": [
       "   work_year experience_level employment_type           job_title  salary  \\\n",
       "0       2024               MI              FT  Analytics Engineer   77500   \n",
       "1       2024               SE              FT        AI Developer  252000   \n",
       "2       2024               SE              FT        AI Developer  168000   \n",
       "3       2024               MI              FT      Data Scientist  199500   \n",
       "4       2024               MI              FT      Data Scientist   86700   \n",
       "\n",
       "  salary_currency  salary_in_usd employee_residence  remote_ratio  \\\n",
       "0             CAD          59615                 CA           100   \n",
       "1             USD         252000                 US             0   \n",
       "2             USD         168000                 US             0   \n",
       "3             USD         199500                 US           100   \n",
       "4             USD          86700                 US           100   \n",
       "\n",
       "  company_location company_size  \n",
       "0               CA            S  \n",
       "1               US            M  \n",
       "2               US            M  \n",
       "3               US            M  \n",
       "4               US            M  "
      ]
     },
     "execution_count": 2,
     "metadata": {},
     "output_type": "execute_result"
    }
   ],
   "source": [
    "df = pd.read_csv(\"salaries.csv\")\n",
    "df.head()"
   ]
  },
  {
   "cell_type": "code",
   "execution_count": 3,
   "id": "d55fa13a",
   "metadata": {},
   "outputs": [
    {
     "name": "stdout",
     "output_type": "stream",
     "text": [
      "<class 'pandas.core.frame.DataFrame'>\n",
      "RangeIndex: 18056 entries, 0 to 18055\n",
      "Data columns (total 11 columns):\n",
      " #   Column              Non-Null Count  Dtype \n",
      "---  ------              --------------  ----- \n",
      " 0   work_year           18056 non-null  int64 \n",
      " 1   experience_level    18056 non-null  object\n",
      " 2   employment_type     18056 non-null  object\n",
      " 3   job_title           18056 non-null  object\n",
      " 4   salary              18056 non-null  int64 \n",
      " 5   salary_currency     18056 non-null  object\n",
      " 6   salary_in_usd       18056 non-null  int64 \n",
      " 7   employee_residence  18056 non-null  object\n",
      " 8   remote_ratio        18056 non-null  int64 \n",
      " 9   company_location    18056 non-null  object\n",
      " 10  company_size        18056 non-null  object\n",
      "dtypes: int64(4), object(7)\n",
      "memory usage: 1.5+ MB\n"
     ]
    }
   ],
   "source": [
    "df.info()"
   ]
  },
  {
   "cell_type": "code",
   "execution_count": 4,
   "id": "c5a78ed9",
   "metadata": {},
   "outputs": [
    {
     "data": {
      "text/html": [
       "<div>\n",
       "<style scoped>\n",
       "    .dataframe tbody tr th:only-of-type {\n",
       "        vertical-align: middle;\n",
       "    }\n",
       "\n",
       "    .dataframe tbody tr th {\n",
       "        vertical-align: top;\n",
       "    }\n",
       "\n",
       "    .dataframe thead th {\n",
       "        text-align: right;\n",
       "    }\n",
       "</style>\n",
       "<table border=\"1\" class=\"dataframe\">\n",
       "  <thead>\n",
       "    <tr style=\"text-align: right;\">\n",
       "      <th></th>\n",
       "      <th>count</th>\n",
       "      <th>mean</th>\n",
       "      <th>std</th>\n",
       "      <th>min</th>\n",
       "      <th>25%</th>\n",
       "      <th>50%</th>\n",
       "      <th>75%</th>\n",
       "      <th>max</th>\n",
       "    </tr>\n",
       "  </thead>\n",
       "  <tbody>\n",
       "    <tr>\n",
       "      <th>work_year</th>\n",
       "      <td>18056.0</td>\n",
       "      <td>2023.292036</td>\n",
       "      <td>0.715810</td>\n",
       "      <td>2020.0</td>\n",
       "      <td>2023.0</td>\n",
       "      <td>2023.0</td>\n",
       "      <td>2024.0</td>\n",
       "      <td>2024.0</td>\n",
       "    </tr>\n",
       "    <tr>\n",
       "      <th>salary</th>\n",
       "      <td>18056.0</td>\n",
       "      <td>163875.139123</td>\n",
       "      <td>326562.877696</td>\n",
       "      <td>14000.0</td>\n",
       "      <td>104000.0</td>\n",
       "      <td>143000.0</td>\n",
       "      <td>190000.0</td>\n",
       "      <td>30400000.0</td>\n",
       "    </tr>\n",
       "    <tr>\n",
       "      <th>salary_in_usd</th>\n",
       "      <td>18056.0</td>\n",
       "      <td>150856.152913</td>\n",
       "      <td>68728.941915</td>\n",
       "      <td>15000.0</td>\n",
       "      <td>103500.0</td>\n",
       "      <td>142200.0</td>\n",
       "      <td>188500.0</td>\n",
       "      <td>800000.0</td>\n",
       "    </tr>\n",
       "    <tr>\n",
       "      <th>remote_ratio</th>\n",
       "      <td>18056.0</td>\n",
       "      <td>30.884471</td>\n",
       "      <td>45.828340</td>\n",
       "      <td>0.0</td>\n",
       "      <td>0.0</td>\n",
       "      <td>0.0</td>\n",
       "      <td>100.0</td>\n",
       "      <td>100.0</td>\n",
       "    </tr>\n",
       "  </tbody>\n",
       "</table>\n",
       "</div>"
      ],
      "text/plain": [
       "                 count           mean            std      min       25%  \\\n",
       "work_year      18056.0    2023.292036       0.715810   2020.0    2023.0   \n",
       "salary         18056.0  163875.139123  326562.877696  14000.0  104000.0   \n",
       "salary_in_usd  18056.0  150856.152913   68728.941915  15000.0  103500.0   \n",
       "remote_ratio   18056.0      30.884471      45.828340      0.0       0.0   \n",
       "\n",
       "                    50%       75%         max  \n",
       "work_year        2023.0    2024.0      2024.0  \n",
       "salary         143000.0  190000.0  30400000.0  \n",
       "salary_in_usd  142200.0  188500.0    800000.0  \n",
       "remote_ratio        0.0     100.0       100.0  "
      ]
     },
     "execution_count": 4,
     "metadata": {},
     "output_type": "execute_result"
    }
   ],
   "source": [
    "df.describe().T"
   ]
  },
  {
   "cell_type": "code",
   "execution_count": 5,
   "id": "d670d1d4",
   "metadata": {},
   "outputs": [
    {
     "data": {
      "text/html": [
       "<div>\n",
       "<style scoped>\n",
       "    .dataframe tbody tr th:only-of-type {\n",
       "        vertical-align: middle;\n",
       "    }\n",
       "\n",
       "    .dataframe tbody tr th {\n",
       "        vertical-align: top;\n",
       "    }\n",
       "\n",
       "    .dataframe thead th {\n",
       "        text-align: right;\n",
       "    }\n",
       "</style>\n",
       "<table border=\"1\" class=\"dataframe\">\n",
       "  <thead>\n",
       "    <tr style=\"text-align: right;\">\n",
       "      <th></th>\n",
       "      <th>experience_level</th>\n",
       "      <th>employment_type</th>\n",
       "      <th>job_title</th>\n",
       "      <th>salary_currency</th>\n",
       "      <th>employee_residence</th>\n",
       "      <th>company_location</th>\n",
       "      <th>company_size</th>\n",
       "    </tr>\n",
       "  </thead>\n",
       "  <tbody>\n",
       "    <tr>\n",
       "      <th>count</th>\n",
       "      <td>18056</td>\n",
       "      <td>18056</td>\n",
       "      <td>18056</td>\n",
       "      <td>18056</td>\n",
       "      <td>18056</td>\n",
       "      <td>18056</td>\n",
       "      <td>18056</td>\n",
       "    </tr>\n",
       "    <tr>\n",
       "      <th>unique</th>\n",
       "      <td>4</td>\n",
       "      <td>4</td>\n",
       "      <td>143</td>\n",
       "      <td>24</td>\n",
       "      <td>88</td>\n",
       "      <td>77</td>\n",
       "      <td>3</td>\n",
       "    </tr>\n",
       "    <tr>\n",
       "      <th>top</th>\n",
       "      <td>SE</td>\n",
       "      <td>FT</td>\n",
       "      <td>Data Scientist</td>\n",
       "      <td>USD</td>\n",
       "      <td>US</td>\n",
       "      <td>US</td>\n",
       "      <td>M</td>\n",
       "    </tr>\n",
       "    <tr>\n",
       "      <th>freq</th>\n",
       "      <td>11486</td>\n",
       "      <td>17974</td>\n",
       "      <td>4284</td>\n",
       "      <td>16772</td>\n",
       "      <td>15899</td>\n",
       "      <td>15950</td>\n",
       "      <td>16767</td>\n",
       "    </tr>\n",
       "  </tbody>\n",
       "</table>\n",
       "</div>"
      ],
      "text/plain": [
       "       experience_level employment_type       job_title salary_currency  \\\n",
       "count             18056           18056           18056           18056   \n",
       "unique                4               4             143              24   \n",
       "top                  SE              FT  Data Scientist             USD   \n",
       "freq              11486           17974            4284           16772   \n",
       "\n",
       "       employee_residence company_location company_size  \n",
       "count               18056            18056        18056  \n",
       "unique                 88               77            3  \n",
       "top                    US               US            M  \n",
       "freq                15899            15950        16767  "
      ]
     },
     "execution_count": 5,
     "metadata": {},
     "output_type": "execute_result"
    }
   ],
   "source": [
    "df.describe(include='object')"
   ]
  },
  {
   "cell_type": "code",
   "execution_count": 6,
   "id": "3f79ac49",
   "metadata": {},
   "outputs": [
    {
     "data": {
      "text/plain": [
       "(18056, 11)"
      ]
     },
     "execution_count": 6,
     "metadata": {},
     "output_type": "execute_result"
    }
   ],
   "source": [
    "df.shape"
   ]
  },
  {
   "cell_type": "code",
   "execution_count": 7,
   "id": "e77d8004",
   "metadata": {},
   "outputs": [
    {
     "data": {
      "text/plain": [
       "Index(['work_year', 'experience_level', 'employment_type', 'job_title',\n",
       "       'salary', 'salary_currency', 'salary_in_usd', 'employee_residence',\n",
       "       'remote_ratio', 'company_location', 'company_size'],\n",
       "      dtype='object')"
      ]
     },
     "execution_count": 7,
     "metadata": {},
     "output_type": "execute_result"
    }
   ],
   "source": [
    "df.columns"
   ]
  },
  {
   "cell_type": "code",
   "execution_count": 8,
   "id": "6f25ed7d",
   "metadata": {},
   "outputs": [
    {
     "data": {
      "text/plain": [
       "0"
      ]
     },
     "execution_count": 8,
     "metadata": {},
     "output_type": "execute_result"
    }
   ],
   "source": [
    "df.isnull().sum().sum()"
   ]
  },
  {
   "cell_type": "code",
   "execution_count": 9,
   "id": "5da7ae32",
   "metadata": {},
   "outputs": [
    {
     "data": {
      "text/plain": [
       "7380"
      ]
     },
     "execution_count": 9,
     "metadata": {},
     "output_type": "execute_result"
    }
   ],
   "source": [
    "df.duplicated().sum()"
   ]
  },
  {
   "cell_type": "code",
   "execution_count": 10,
   "id": "87033529",
   "metadata": {},
   "outputs": [],
   "source": [
    "df =  df.drop_duplicates()"
   ]
  },
  {
   "cell_type": "code",
   "execution_count": 11,
   "id": "fd0b5d3f",
   "metadata": {},
   "outputs": [
    {
     "data": {
      "text/plain": [
       "0"
      ]
     },
     "execution_count": 11,
     "metadata": {},
     "output_type": "execute_result"
    }
   ],
   "source": [
    "df.duplicated().sum()"
   ]
  },
  {
   "cell_type": "code",
   "execution_count": 16,
   "id": "323963a3",
   "metadata": {},
   "outputs": [
    {
     "data": {
      "text/plain": [
       "(10676, 11)"
      ]
     },
     "execution_count": 16,
     "metadata": {},
     "output_type": "execute_result"
    }
   ],
   "source": [
    "df.shape"
   ]
  },
  {
   "cell_type": "code",
   "execution_count": 12,
   "id": "f63aca23",
   "metadata": {},
   "outputs": [
    {
     "data": {
      "text/plain": [
       "array(['MI', 'SE', 'EN', 'EX'], dtype=object)"
      ]
     },
     "execution_count": 12,
     "metadata": {},
     "output_type": "execute_result"
    }
   ],
   "source": [
    "df['experience_level'].unique()"
   ]
  },
  {
   "cell_type": "code",
   "execution_count": 13,
   "id": "4ea0a819",
   "metadata": {},
   "outputs": [
    {
     "data": {
      "text/plain": [
       "SE    6199\n",
       "MI    2972\n",
       "EN    1102\n",
       "EX     403\n",
       "Name: experience_level, dtype: int64"
      ]
     },
     "execution_count": 13,
     "metadata": {},
     "output_type": "execute_result"
    }
   ],
   "source": [
    "df['experience_level'].value_counts()"
   ]
  },
  {
   "cell_type": "code",
   "execution_count": 14,
   "id": "3d127450",
   "metadata": {},
   "outputs": [
    {
     "data": {
      "text/plain": [
       "array(['FT', 'CT', 'PT', 'FL'], dtype=object)"
      ]
     },
     "execution_count": 14,
     "metadata": {},
     "output_type": "execute_result"
    }
   ],
   "source": [
    "df['employment_type'].unique()"
   ]
  },
  {
   "cell_type": "code",
   "execution_count": 15,
   "id": "d1d1c397",
   "metadata": {},
   "outputs": [
    {
     "data": {
      "text/plain": [
       "FT    10594\n",
       "PT       38\n",
       "CT       30\n",
       "FL       14\n",
       "Name: employment_type, dtype: int64"
      ]
     },
     "execution_count": 15,
     "metadata": {},
     "output_type": "execute_result"
    }
   ],
   "source": [
    "df['employment_type'].value_counts()"
   ]
  },
  {
   "cell_type": "code",
   "execution_count": 17,
   "id": "470d18a2",
   "metadata": {},
   "outputs": [
    {
     "data": {
      "text/plain": [
       "array(['CAD', 'USD', 'GBP', 'EUR', 'SEK', 'PLN', 'INR', 'DKK', 'ILS',\n",
       "       'BRL', 'CHF', 'NZD', 'AUD', 'PHP', 'TRY', 'NOK', 'JPY', 'ZAR',\n",
       "       'HKD', 'SGD', 'THB', 'HUF', 'MXN', 'CLP'], dtype=object)"
      ]
     },
     "execution_count": 17,
     "metadata": {},
     "output_type": "execute_result"
    }
   ],
   "source": [
    "df['salary_currency'].unique()"
   ]
  },
  {
   "cell_type": "code",
   "execution_count": 18,
   "id": "ab4432bb",
   "metadata": {},
   "outputs": [
    {
     "data": {
      "text/plain": [
       "USD    9608\n",
       "GBP     493\n",
       "EUR     395\n",
       "CAD      58\n",
       "INR      56\n",
       "AUD      12\n",
       "PLN       8\n",
       "CHF       8\n",
       "SGD       6\n",
       "BRL       5\n",
       "JPY       4\n",
       "DKK       4\n",
       "HUF       3\n",
       "TRY       3\n",
       "NOK       2\n",
       "THB       2\n",
       "ILS       2\n",
       "NZD       1\n",
       "SEK       1\n",
       "PHP       1\n",
       "HKD       1\n",
       "CLP       1\n",
       "MXN       1\n",
       "ZAR       1\n",
       "Name: salary_currency, dtype: int64"
      ]
     },
     "execution_count": 18,
     "metadata": {},
     "output_type": "execute_result"
    }
   ],
   "source": [
    "df['salary_currency'].value_counts()"
   ]
  },
  {
   "cell_type": "code",
   "execution_count": 19,
   "id": "3f806402",
   "metadata": {},
   "outputs": [
    {
     "data": {
      "text/plain": [
       "USD      9608\n",
       "GBP       493\n",
       "EUR       395\n",
       "CAD        58\n",
       "INR        56\n",
       "Other      38\n",
       "AUD        12\n",
       "PLN         8\n",
       "CHF         8\n",
       "Name: salary_currency, dtype: int64"
      ]
     },
     "execution_count": 19,
     "metadata": {},
     "output_type": "execute_result"
    }
   ],
   "source": [
    "currency_counts = df['salary_currency'].value_counts()\n",
    "df['salary_currency'] = df['salary_currency'].apply(lambda x: 'Other' if currency_counts[x] < 7 else x)\n",
    "df['salary_currency'].value_counts()"
   ]
  },
  {
   "cell_type": "code",
   "execution_count": 21,
   "id": "1aaae9d1",
   "metadata": {},
   "outputs": [
    {
     "data": {
      "text/plain": [
       "array(['Analytics Engineer', 'AI Developer', 'Data Scientist',\n",
       "       'Research Engineer', 'Research Scientist', 'Data Engineer',\n",
       "       'Data Analyst', 'Applied Scientist', 'Machine Learning Engineer',\n",
       "       'Data Architect', 'Business Intelligence Analyst',\n",
       "       'Research Analyst', 'Data Analytics Manager',\n",
       "       'Data Product Manager', 'Data Analytics Lead',\n",
       "       'Business Intelligence Engineer', 'Data Manager',\n",
       "       'Machine Learning Scientist', 'Prompt Engineer', 'Insight Analyst',\n",
       "       'BI Analyst', 'AI Engineer', 'Business Intelligence Lead',\n",
       "       'BI Developer', 'Data Operations Analyst',\n",
       "       'Data Reporting Analyst', 'Business Intelligence Developer',\n",
       "       'Data Product Owner', 'Data Specialist', 'Business Intelligence',\n",
       "       'MLOps Engineer', 'Data Visualization Specialist', 'AI Architect',\n",
       "       'Data Quality Analyst', 'Lead AI Engineer', 'AI Product Manager',\n",
       "       'Data Management Specialist', 'Data Strategist',\n",
       "       'AI Software Engineer', 'Computer Vision Engineer',\n",
       "       'Robotics Engineer', 'Robotics Software Engineer',\n",
       "       'Machine Learning Researcher', 'Data Modeler', 'Data Lead',\n",
       "       'AI Scientist', 'Data Infrastructure Engineer',\n",
       "       'Data Integration Engineer', 'Machine Learning Developer',\n",
       "       'Machine Learning Manager', 'AI Software Development Engineer',\n",
       "       'Master Data Specialist', 'Machine Learning Modeler',\n",
       "       'NLP Engineer', 'Data Operations Manager',\n",
       "       'Data Integration Specialist', 'Data Management Analyst',\n",
       "       'Encounter Data Management Professional',\n",
       "       'Data Analytics Specialist', 'Head of Data',\n",
       "       'Admin & Data Analyst', 'Consultant Data Engineer',\n",
       "       'Business Intelligence Manager', 'Manager Data Management',\n",
       "       'Data Quality Manager', 'Business Intelligence Specialist',\n",
       "       'Director of Business Intelligence', 'AI Research Scientist',\n",
       "       'Data Operations Specialist', 'Bear Robotics',\n",
       "       'Data Operations Associate', 'Lead Data Scientist',\n",
       "       'Applied Research Scientist',\n",
       "       'Machine Learning Infrastructure Engineer', 'Data Developer',\n",
       "       'CRM Data Analyst', 'ETL Developer', 'Cloud Database Engineer',\n",
       "       'BI Data Analyst', 'Applied Data Scientist',\n",
       "       'Data Quality Engineer', 'Computational Biologist',\n",
       "       'Big Data Engineer', 'Data Analytics Associate',\n",
       "       'Data Management Consultant', 'Data DevOps Engineer',\n",
       "       'Big Data Developer', 'Quantitative Research Analyst',\n",
       "       'Lead Machine Learning Engineer',\n",
       "       'Machine Learning Research Engineer', 'Data Analytics Consultant',\n",
       "       'AI Research Engineer', 'AI Programmer', 'ETL Engineer',\n",
       "       'Head of Machine Learning', 'Data Analyst Lead',\n",
       "       'Data Integration Developer', 'Data Pipeline Engineer',\n",
       "       'Lead Data Analyst', 'Business Data Analyst',\n",
       "       'Marketing Data Scientist', 'Deep Learning Engineer',\n",
       "       'Decision Scientist', 'Financial Data Analyst',\n",
       "       'Data Strategy Manager', 'Data Visualization Engineer',\n",
       "       'Azure Data Engineer', 'Principal Data Scientist',\n",
       "       'Staff Data Analyst', 'Machine Learning Software Engineer',\n",
       "       'Applied Machine Learning Scientist', 'Data Operations Engineer',\n",
       "       'Principal Machine Learning Engineer', 'Principal Data Engineer',\n",
       "       'Power BI Developer', 'Staff Machine Learning Engineer',\n",
       "       'Staff Data Scientist', 'Machine Learning Specialist',\n",
       "       'Business Intelligence Data Analyst', 'Finance Data Analyst',\n",
       "       'Software Data Engineer', 'Compliance Data Analyst',\n",
       "       'Cloud Data Engineer', 'Analytics Engineering Manager',\n",
       "       'AWS Data Architect', 'Product Data Analyst',\n",
       "       'Data Visualization Analyst', 'Autonomous Vehicle Technician',\n",
       "       'Sales Data Analyst', 'Applied Machine Learning Engineer',\n",
       "       'BI Data Engineer', 'Deep Learning Researcher',\n",
       "       'Big Data Architect', 'Computer Vision Software Engineer',\n",
       "       'Marketing Data Engineer', 'Data Science Tech Lead',\n",
       "       'Data Scientist Lead', 'Marketing Data Analyst',\n",
       "       'Principal Data Architect', 'Data Analytics Engineer',\n",
       "       'Cloud Data Architect', 'Lead Data Engineer',\n",
       "       'Principal Data Analyst'], dtype=object)"
      ]
     },
     "execution_count": 21,
     "metadata": {},
     "output_type": "execute_result"
    }
   ],
   "source": [
    "df['job_title'].unique()"
   ]
  },
  {
   "cell_type": "code",
   "execution_count": 22,
   "id": "b4a36e84",
   "metadata": {},
   "outputs": [
    {
     "data": {
      "text/plain": [
       "array([100,   0,  50], dtype=int64)"
      ]
     },
     "execution_count": 22,
     "metadata": {},
     "output_type": "execute_result"
    }
   ],
   "source": [
    "df['remote_ratio'].unique()"
   ]
  },
  {
   "cell_type": "code",
   "execution_count": 23,
   "id": "db970c54",
   "metadata": {},
   "outputs": [],
   "source": [
    "df['state'] = df['remote_ratio'].apply(lambda x: 'Remote' if x == 100 else ('On-Site' if x == 0 else 'Hybrid'))"
   ]
  },
  {
   "cell_type": "code",
   "execution_count": 24,
   "id": "49fcd6f5",
   "metadata": {},
   "outputs": [
    {
     "data": {
      "text/html": [
       "<div>\n",
       "<style scoped>\n",
       "    .dataframe tbody tr th:only-of-type {\n",
       "        vertical-align: middle;\n",
       "    }\n",
       "\n",
       "    .dataframe tbody tr th {\n",
       "        vertical-align: top;\n",
       "    }\n",
       "\n",
       "    .dataframe thead th {\n",
       "        text-align: right;\n",
       "    }\n",
       "</style>\n",
       "<table border=\"1\" class=\"dataframe\">\n",
       "  <thead>\n",
       "    <tr style=\"text-align: right;\">\n",
       "      <th></th>\n",
       "      <th>work_year</th>\n",
       "      <th>experience_level</th>\n",
       "      <th>employment_type</th>\n",
       "      <th>job_title</th>\n",
       "      <th>salary</th>\n",
       "      <th>salary_currency</th>\n",
       "      <th>salary_in_usd</th>\n",
       "      <th>employee_residence</th>\n",
       "      <th>remote_ratio</th>\n",
       "      <th>company_location</th>\n",
       "      <th>company_size</th>\n",
       "      <th>state</th>\n",
       "    </tr>\n",
       "  </thead>\n",
       "  <tbody>\n",
       "    <tr>\n",
       "      <th>10836</th>\n",
       "      <td>2023</td>\n",
       "      <td>MI</td>\n",
       "      <td>FT</td>\n",
       "      <td>Data Analyst</td>\n",
       "      <td>67500</td>\n",
       "      <td>USD</td>\n",
       "      <td>67500</td>\n",
       "      <td>US</td>\n",
       "      <td>0</td>\n",
       "      <td>US</td>\n",
       "      <td>M</td>\n",
       "      <td>On-Site</td>\n",
       "    </tr>\n",
       "    <tr>\n",
       "      <th>6360</th>\n",
       "      <td>2024</td>\n",
       "      <td>MI</td>\n",
       "      <td>FT</td>\n",
       "      <td>BI Developer</td>\n",
       "      <td>43626</td>\n",
       "      <td>GBP</td>\n",
       "      <td>54532</td>\n",
       "      <td>GB</td>\n",
       "      <td>0</td>\n",
       "      <td>GB</td>\n",
       "      <td>M</td>\n",
       "      <td>On-Site</td>\n",
       "    </tr>\n",
       "    <tr>\n",
       "      <th>409</th>\n",
       "      <td>2024</td>\n",
       "      <td>SE</td>\n",
       "      <td>FT</td>\n",
       "      <td>Data Engineer</td>\n",
       "      <td>165000</td>\n",
       "      <td>USD</td>\n",
       "      <td>165000</td>\n",
       "      <td>US</td>\n",
       "      <td>100</td>\n",
       "      <td>US</td>\n",
       "      <td>M</td>\n",
       "      <td>Remote</td>\n",
       "    </tr>\n",
       "    <tr>\n",
       "      <th>3665</th>\n",
       "      <td>2024</td>\n",
       "      <td>MI</td>\n",
       "      <td>FT</td>\n",
       "      <td>Machine Learning Scientist</td>\n",
       "      <td>720000</td>\n",
       "      <td>USD</td>\n",
       "      <td>720000</td>\n",
       "      <td>US</td>\n",
       "      <td>0</td>\n",
       "      <td>US</td>\n",
       "      <td>M</td>\n",
       "      <td>On-Site</td>\n",
       "    </tr>\n",
       "    <tr>\n",
       "      <th>9332</th>\n",
       "      <td>2023</td>\n",
       "      <td>SE</td>\n",
       "      <td>FT</td>\n",
       "      <td>Data Analyst</td>\n",
       "      <td>103200</td>\n",
       "      <td>USD</td>\n",
       "      <td>103200</td>\n",
       "      <td>US</td>\n",
       "      <td>0</td>\n",
       "      <td>US</td>\n",
       "      <td>M</td>\n",
       "      <td>On-Site</td>\n",
       "    </tr>\n",
       "    <tr>\n",
       "      <th>8796</th>\n",
       "      <td>2023</td>\n",
       "      <td>EN</td>\n",
       "      <td>FT</td>\n",
       "      <td>Data Scientist</td>\n",
       "      <td>40000</td>\n",
       "      <td>EUR</td>\n",
       "      <td>43187</td>\n",
       "      <td>ES</td>\n",
       "      <td>0</td>\n",
       "      <td>ES</td>\n",
       "      <td>M</td>\n",
       "      <td>On-Site</td>\n",
       "    </tr>\n",
       "    <tr>\n",
       "      <th>11258</th>\n",
       "      <td>2023</td>\n",
       "      <td>EX</td>\n",
       "      <td>FT</td>\n",
       "      <td>Data Scientist</td>\n",
       "      <td>250300</td>\n",
       "      <td>USD</td>\n",
       "      <td>250300</td>\n",
       "      <td>US</td>\n",
       "      <td>100</td>\n",
       "      <td>US</td>\n",
       "      <td>M</td>\n",
       "      <td>Remote</td>\n",
       "    </tr>\n",
       "    <tr>\n",
       "      <th>2774</th>\n",
       "      <td>2024</td>\n",
       "      <td>SE</td>\n",
       "      <td>FT</td>\n",
       "      <td>Data Scientist</td>\n",
       "      <td>162000</td>\n",
       "      <td>USD</td>\n",
       "      <td>162000</td>\n",
       "      <td>US</td>\n",
       "      <td>0</td>\n",
       "      <td>US</td>\n",
       "      <td>M</td>\n",
       "      <td>On-Site</td>\n",
       "    </tr>\n",
       "    <tr>\n",
       "      <th>12833</th>\n",
       "      <td>2023</td>\n",
       "      <td>SE</td>\n",
       "      <td>FT</td>\n",
       "      <td>Business Intelligence Analyst</td>\n",
       "      <td>200000</td>\n",
       "      <td>USD</td>\n",
       "      <td>200000</td>\n",
       "      <td>US</td>\n",
       "      <td>100</td>\n",
       "      <td>US</td>\n",
       "      <td>M</td>\n",
       "      <td>Remote</td>\n",
       "    </tr>\n",
       "    <tr>\n",
       "      <th>7293</th>\n",
       "      <td>2024</td>\n",
       "      <td>SE</td>\n",
       "      <td>FT</td>\n",
       "      <td>Data Engineer</td>\n",
       "      <td>94100</td>\n",
       "      <td>USD</td>\n",
       "      <td>94100</td>\n",
       "      <td>US</td>\n",
       "      <td>0</td>\n",
       "      <td>US</td>\n",
       "      <td>M</td>\n",
       "      <td>On-Site</td>\n",
       "    </tr>\n",
       "  </tbody>\n",
       "</table>\n",
       "</div>"
      ],
      "text/plain": [
       "       work_year experience_level employment_type  \\\n",
       "10836       2023               MI              FT   \n",
       "6360        2024               MI              FT   \n",
       "409         2024               SE              FT   \n",
       "3665        2024               MI              FT   \n",
       "9332        2023               SE              FT   \n",
       "8796        2023               EN              FT   \n",
       "11258       2023               EX              FT   \n",
       "2774        2024               SE              FT   \n",
       "12833       2023               SE              FT   \n",
       "7293        2024               SE              FT   \n",
       "\n",
       "                           job_title  salary salary_currency  salary_in_usd  \\\n",
       "10836                   Data Analyst   67500             USD          67500   \n",
       "6360                    BI Developer   43626             GBP          54532   \n",
       "409                    Data Engineer  165000             USD         165000   \n",
       "3665      Machine Learning Scientist  720000             USD         720000   \n",
       "9332                    Data Analyst  103200             USD         103200   \n",
       "8796                  Data Scientist   40000             EUR          43187   \n",
       "11258                 Data Scientist  250300             USD         250300   \n",
       "2774                  Data Scientist  162000             USD         162000   \n",
       "12833  Business Intelligence Analyst  200000             USD         200000   \n",
       "7293                   Data Engineer   94100             USD          94100   \n",
       "\n",
       "      employee_residence  remote_ratio company_location company_size    state  \n",
       "10836                 US             0               US            M  On-Site  \n",
       "6360                  GB             0               GB            M  On-Site  \n",
       "409                   US           100               US            M   Remote  \n",
       "3665                  US             0               US            M  On-Site  \n",
       "9332                  US             0               US            M  On-Site  \n",
       "8796                  ES             0               ES            M  On-Site  \n",
       "11258                 US           100               US            M   Remote  \n",
       "2774                  US             0               US            M  On-Site  \n",
       "12833                 US           100               US            M   Remote  \n",
       "7293                  US             0               US            M  On-Site  "
      ]
     },
     "execution_count": 24,
     "metadata": {},
     "output_type": "execute_result"
    }
   ],
   "source": [
    "df.sample(10)"
   ]
  },
  {
   "cell_type": "code",
   "execution_count": 27,
   "id": "5f966eb8",
   "metadata": {},
   "outputs": [
    {
     "data": {
      "text/html": [
       "<a href='Salaries.csv' target='_blank'>Salaries.csv</a><br>"
      ],
      "text/plain": [
       "C:\\Users\\HP\\Downloads\\Salaries.csv"
      ]
     },
     "metadata": {},
     "output_type": "display_data"
    },
    {
     "data": {
      "text/html": [
       "<a href='Salaries.xlsx' target='_blank'>Salaries.xlsx</a><br>"
      ],
      "text/plain": [
       "C:\\Users\\HP\\Downloads\\Salaries.xlsx"
      ]
     },
     "metadata": {},
     "output_type": "display_data"
    }
   ],
   "source": [
    "df.to_csv('Salaries.csv', index=False)\n",
    "df.to_excel('Salaries.xlsx', index=False)\n",
    "from IPython.display import FileLink\n",
    "display(FileLink('Salaries.csv'))\n",
    "display(FileLink('Salaries.xlsx'))\n"
   ]
  },
  {
   "cell_type": "code",
   "execution_count": null,
   "id": "0a81e230",
   "metadata": {},
   "outputs": [],
   "source": []
  }
 ],
 "metadata": {
  "kernelspec": {
   "display_name": "Python 3",
   "language": "python",
   "name": "python3"
  },
  "language_info": {
   "codemirror_mode": {
    "name": "ipython",
    "version": 3
   },
   "file_extension": ".py",
   "mimetype": "text/x-python",
   "name": "python",
   "nbconvert_exporter": "python",
   "pygments_lexer": "ipython3",
   "version": "3.8.8"
  }
 },
 "nbformat": 4,
 "nbformat_minor": 5
}
